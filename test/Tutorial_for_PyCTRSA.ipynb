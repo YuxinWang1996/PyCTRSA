{
 "cells": [
  {
   "cell_type": "markdown",
   "metadata": {},
   "source": [
    "# Hi! This is the tutorial of PyCTRSA!\n",
    "\n",
    "### PyCTRSA is a Python Toolbox for Cross-Temporal Representational Similarity Analysis(RSA)-based Decoding for E/MEG data.\n",
    "\n",
    "### Author\n",
    "Zitong Lu\n",
    "\n",
    "you can see more details about me here: [https://github.com/ZitongLu1996](https://github.com/ZitongLu1996)\n",
    "\n",
    "### Download\n",
    "\n",
    "> pip install pyctrsa\n",
    "\n",
    "### Highlight\n",
    "CTRSA-based decoding is a new algorithm for cross-temporal E/MEG decoding by RSA. We use the neural data from two different time-points to establish a Cross-Temporal Representatonal Dissimilarity Matrix (RDM) corrsponding to time i and time j. By this train of thought, we can obtain Number_of_Times by Number_of_Times Cross-Temporal RDMs. Then we can establish a Coding Model RDM by the experimental hypothesis. Finally, we can calculate the similarity between this Coding Model RDM and the Number_of_Times by Number_of_Times Cross-Temporal RDMs and obtain the cross-temporal decoding results.\n",
    "\n",
    "### Notes\n",
    "In PyCTRSA, you can not only calculate the cross-temporal similarities based on this novel methods to realize decoding, but also calculate the cross-temporal similarities based on neural data under two different conditions to see the similar data patterns between two conditions and calculate the the cross-temporal similarities based on normal RDMs to see the similar representational patterns between different time-points.\n",
    "\n",
    "### Features in PyCTRSA\n",
    "#### 1. Calculate the Cross-Temporal RDM (Novel here!)\n",
    "\n",
    "    > calculate CTRDMs for a single channel/subject\n",
    "\n",
    "    > calculate CTRDMs for multi-channels&subejcts\n",
    "\n",
    "#### 2. Calculate the similarity between two CTRDMs (Novel here!)\n",
    "\n",
    "    > by Pearson Correlation/Spearman Correlation/Kendall tau Correlation/Cosine Similarity/Euclidean Distance\n",
    "\n",
    "#### 3. Calculate the Cross-Temporal Similarities\n",
    "\n",
    "    > calculate CTSimilarities between neural data under two conditions\n",
    "\n",
    "    > calculate CTSimilarities based on normal RDMs\n",
    "\n",
    "    > calculate CTSimilarities between CTRDMs and a Coding Model RDM (Novel here!)\n",
    "\n",
    "#### 4. Plot the Results\n",
    "\n",
    "    > plot the CTRDM\n",
    "    \n",
    "    > plot the CTSimilarities\n",
    "    \n",
    "    > plot the time-by-time similarities\n",
    "\n",
    "### Required Dependencies\n",
    "\n",
    "$~~~~~~~~$[Numpy](https://www.numpy.org): a fundamental package for scientific computing.\n",
    "    \n",
    "$~~~~~~~~$[SciPy](https://www.scipy.org/scipylib/index.html): a package that provides many user-friendly and efficient numerical routines.\n",
    "    \n",
    "$~~~~~~~~$[Matplotlib](https://matplotlib.org): a Python 2D plotting library.]\n",
    "\n",
    "$~~~~~~~~$[NeuroRA](https://zitonglu1996.github.io/NeuroRA/): a Python toolbox for multimode neural data Representation Analysis.]"
   ]
  },
  {
   "cell_type": "markdown",
   "metadata": {},
   "source": [
    "## PyCTRSA Demo \n",
    "### Here, we provide a demo. By this demo, you will learn and know how to use PyCTRSA.\n",
    "The data of this PyCTRSA Demo is based on Bae&Luck's work in 2018. All demo data are based on their Experiment 2's data.  You can find more details about the experiment and data information in their paper: [Bae, G.Y., Luck, S.J. (2018). Dissociable decoding of spatial attention and working memory from eeg oscillations and sustained potentials. The Journal of Neuroscience, 38(2), 409-422.](https://doi.org/10.1523/JNEUROSCI.2860-17.2017)\n",
    "\n",
    "In this demo, we use the ERP data after 2-6Hz filtering and Alpha data after 8-12 Hz filtering and Hilbert transform."
   ]
  },
  {
   "cell_type": "code",
   "execution_count": 35,
   "metadata": {},
   "outputs": [],
   "source": [
    "import os\n",
    "import numpy as np\n",
    "from six.moves import urllib\n",
    "from pyctrsa.util.progressbar import show_progressbar\n",
    "from pyctrsa.util.download_data import schedule\n",
    "from pyctrsa.util.unzip_data import unzipfile\n",
    "from pyctrsa.util.preprocess_data import pre_data\n",
    "from pyctrsa.ctrdm import single_cal, multi_cal\n",
    "from pyctrsa.plotting import ctrdm\n",
    "import h5py\n",
    "\n",
    "url = 'https://attachment.zhaokuangshi.cn/BaeLuck_2018jn_data.zip'\n",
    "filename = 'BaeLuck_2018jn_data.zip'\n",
    "data_dir = '/Users/zitonglu/Downloads/PyCTRSA-master-2/data/'\n",
    "filepath = data_dir + filename"
   ]
  },
  {
   "cell_type": "markdown",
   "metadata": {},
   "source": [
    "## Section 1 Downloading Demo Data"
   ]
  },
  {
   "cell_type": "code",
   "execution_count": 18,
   "metadata": {},
   "outputs": [
    {
     "name": "stdout",
     "output_type": "stream",
     "text": [
      "Data already exists!\n",
      "Unzip completes!\n"
     ]
    }
   ],
   "source": [
    "# Download the data\n",
    "exist = os.path.exists(filepath)\n",
    "if exist == False:\n",
    "    os.makedirs(data_dir)\n",
    "    urllib.request.urlretrieve(url, filepath, schedule)\n",
    "    print('Download completes!')\n",
    "elif exist == True:\n",
    "    print('Data already exists!')\n",
    "\n",
    "# unzip the data\n",
    "unzipfile(filepath, data_dir)"
   ]
  },
  {
   "cell_type": "markdown",
   "metadata": {},
   "source": [
    "## Section 2 Data Preprocessing"
   ]
  },
  {
   "cell_type": "code",
   "execution_count": 5,
   "metadata": {},
   "outputs": [
    {
     "name": "stdout",
     "output_type": "stream",
     "text": [
      "Preprocessing: [====================================================================================================] 100.00%"
     ]
    }
   ],
   "source": [
    "# sub_ids in Exp\n",
    "subs = [\"201\", \"202\", \"203\", \"204\", \"205\", \"206\", \"207\", \"208\", \"209\",\n",
    "        \"210\", \"212\", \"213\", \"215\", \"216\", \"217\", \"218\"]\n",
    "\n",
    "# preprocess\n",
    "pre_data(subs, data_dir)"
   ]
  },
  {
   "cell_type": "markdown",
   "metadata": {},
   "source": [
    "The data for PyCTRSA will be stored in data_dir+'data_for_CTRSA/' and the labels can be found in data_dir+'labels/'\n",
    "After this preprocessing step, we can obtain a [16, 40, 27, 500] array for each feature & each subject & each type of neural data.\n",
    "For example, the file, data_dir+'data_for_CTRSA/Alpha/201.h5', is for subject with ID '201'. It contains Alpha data for orientation decoding and Alpha data for position decoding.\n",
    "You can get the Alpha data for orientation decoding and Alpha data for position by:"
   ]
  },
  {
   "cell_type": "code",
   "execution_count": 11,
   "metadata": {},
   "outputs": [
    {
     "name": "stdout",
     "output_type": "stream",
     "text": [
      "(16, 40, 27, 500)\n"
     ]
    }
   ],
   "source": [
    "# read .h5 file\n",
    "f = h5py.File(data_dir+'data_for_CTRSA/Alpha/201.h5', 'r')\n",
    "# Alpha data for orientation decoding of sub201\n",
    "ori_subdata = np.array(f['ori'])\n",
    "# Alpha data for position decoding of sub201\n",
    "pos_subdata = np.array(f['pos'])\n",
    "f.close()\n",
    "\n",
    "# print the shape of data \n",
    "print(ori_subdata.shape)"
   ]
  },
  {
   "cell_type": "markdown",
   "metadata": {},
   "source": [
    "Some explanations here:\n",
    "    \n",
    "> 6: the number of conditions (here means 16 different orientation degrees)\n",
    "\n",
    "> 40: the number of trials\n",
    "\n",
    "> 27: the number of channels\n",
    "\n",
    "> 500: the number of time-points (from -500 ms to 1500 ms, sample rate: 250 Hz)"
   ]
  },
  {
   "cell_type": "markdown",
   "metadata": {},
   "source": [
    "## Section 3 Calculating and Plotting Cross-Temporal RDMs"
   ]
  },
  {
   "cell_type": "code",
   "execution_count": 38,
   "metadata": {},
   "outputs": [
    {
     "data": {
      "image/png": "[encoded data removed]",
      "text/plain": [
       "<Figure size 432x288 with 2 Axes>"
      ]
     },
     "metadata": {
      "needs_background": "light"
     },
     "output_type": "display_data"
    }
   ],
   "source": [
    "# calculate the CTRDMs for a single channel & a single subject\n",
    "\n",
    "# here we choose the ERP position data of 1st channel of sub201, firstly\n",
    "f = h5py.File(data_dir+'data_for_CTRSA/ERP/201.h5', 'r')\n",
    "data_pos_ERP_sub201chl1 = np.array(f['pos'])[:, :, 0]\n",
    "f.close()\n",
    "\n",
    "# avgerage the trials\n",
    "data_pos_ERP_sub201chl1 = np.average(data_pos_ERP_sub201chl1, axis=1)\n",
    "# calculate the CTRDMs\n",
    "# here, time_win=5 and time_step=5 (5 time-points corresponding to 10ms in this Experiment)\n",
    "CTRDM_pos_ERP_sub201chl1 = single_cal.ctrdm_cal(data_pos_ERP_sub201chl1, time_win=5, time_step=5)\n",
    "\n",
    "# save the CTRDMs\n",
    "exist = os.path.exists('test_results/')\n",
    "if exist == False:\n",
    "    os.makedirs('test_results/')\n",
    "f = h5py.File('test_results/CTRDM_pos_ERP_sub201chl1.h5', 'w')\n",
    "f.create_dataset('CTRDMs', data=CTRDM_pos_ERP_sub201chl1)\n",
    "f.close()\n",
    "\n",
    "# plot one of the CTRDMs (time 1: 10 ms, time 2: 20 ms, the time of stimulus onset is 0 ms)\n",
    "conditions = [\"0°\", \"22.5°\", \"45°\", \"67.5°\", \"90°\", \"112.5°\", \"135°\", \"157.5°\", \"180°\",\n",
    "              \"202.5°\", \"225°\", \"247.5°\", \"270°\", \"292.5°\", \"315°\", \"337.5°\"]\n",
    "ctrdm.ctrdm_plot(CTRDM_pos_ERP_sub201chl1[30, 35], percentile=True, conditions=conditions)"
   ]
  },
  {
   "cell_type": "code",
   "execution_count": 42,
   "metadata": {},
   "outputs": [
    {
     "name": "stdout",
     "output_type": "stream",
     "text": [
      "Loading data of sub201\n",
      "Loading data of sub202\n",
      "Loading data of sub203\n",
      "Loading data of sub204\n",
      "Loading data of sub205\n",
      "Loading data of sub206\n",
      "Loading data of sub207\n",
      "Loading data of sub208\n",
      "Loading data of sub209\n",
      "Loading data of sub210\n",
      "Loading data of sub212\n",
      "Loading data of sub213\n",
      "Loading data of sub215\n",
      "Loading data of sub216\n",
      "Loading data of sub217\n",
      "Loading data of sub218\n",
      "Subject 1:\n",
      "Calculating: [======================                                                                              ] 22.28%"
     ]
    },
    {
     "ename": "KeyboardInterrupt",
     "evalue": "",
     "output_type": "error",
     "traceback": [
      "\u001b[0;31m---------------------------------------------------------------------------\u001b[0m",
      "\u001b[0;31mKeyboardInterrupt\u001b[0m                         Traceback (most recent call last)",
      "\u001b[0;32m<ipython-input-42-6aa08477e206>\u001b[0m in \u001b[0;36m<module>\u001b[0;34m()\u001b[0m\n\u001b[1;32m     15\u001b[0m \u001b[0mdata_pos_ERP\u001b[0m \u001b[0;34m=\u001b[0m \u001b[0mnp\u001b[0m\u001b[0;34m.\u001b[0m\u001b[0maverage\u001b[0m\u001b[0;34m(\u001b[0m\u001b[0mdata_pos_ERP\u001b[0m\u001b[0;34m,\u001b[0m \u001b[0maxis\u001b[0m\u001b[0;34m=\u001b[0m\u001b[0;36m2\u001b[0m\u001b[0;34m)\u001b[0m\u001b[0;34m\u001b[0m\u001b[0;34m\u001b[0m\u001b[0m\n\u001b[1;32m     16\u001b[0m \u001b[0;31m# calculate the CTRDMs\u001b[0m\u001b[0;34m\u001b[0m\u001b[0;34m\u001b[0m\u001b[0;34m\u001b[0m\u001b[0m\n\u001b[0;32m---> 17\u001b[0;31m \u001b[0mCTRDM_pos_ERP\u001b[0m \u001b[0;34m=\u001b[0m \u001b[0mmulti_cal\u001b[0m\u001b[0;34m.\u001b[0m\u001b[0mctrdms_cal\u001b[0m\u001b[0;34m(\u001b[0m\u001b[0mdata_pos_ERP\u001b[0m\u001b[0;34m,\u001b[0m \u001b[0msub_opt\u001b[0m\u001b[0;34m=\u001b[0m\u001b[0;36m1\u001b[0m\u001b[0;34m,\u001b[0m \u001b[0mchl_opt\u001b[0m\u001b[0;34m=\u001b[0m\u001b[0;36m0\u001b[0m\u001b[0;34m,\u001b[0m \u001b[0mtime_win\u001b[0m\u001b[0;34m=\u001b[0m\u001b[0;36m5\u001b[0m\u001b[0;34m,\u001b[0m \u001b[0mtime_step\u001b[0m\u001b[0;34m=\u001b[0m\u001b[0;36m5\u001b[0m\u001b[0;34m)\u001b[0m\u001b[0;34m\u001b[0m\u001b[0;34m\u001b[0m\u001b[0m\n\u001b[0m\u001b[1;32m     18\u001b[0m \u001b[0;31m# shape of CTRDMs: [16, 100, 100, 16, 16]\u001b[0m\u001b[0;34m\u001b[0m\u001b[0;34m\u001b[0m\u001b[0;34m\u001b[0m\u001b[0m\n\u001b[1;32m     19\u001b[0m \u001b[0;34m\u001b[0m\u001b[0m\n",
      "\u001b[0;32m~/anaconda3/lib/python3.7/site-packages/pyctrsa/ctrdm/multi_cal.py\u001b[0m in \u001b[0;36mctrdms_cal\u001b[0;34m(data, sub_opt, chl_opt, time_win, time_step)\u001b[0m\n\u001b[1;32m     65\u001b[0m             \u001b[0mprint\u001b[0m\u001b[0;34m(\u001b[0m\u001b[0;34m\"Subject \"\u001b[0m\u001b[0;34m+\u001b[0m\u001b[0mstr\u001b[0m\u001b[0;34m(\u001b[0m\u001b[0msub\u001b[0m\u001b[0;34m+\u001b[0m\u001b[0;36m1\u001b[0m\u001b[0;34m)\u001b[0m\u001b[0;34m+\u001b[0m\u001b[0;34m\":\"\u001b[0m\u001b[0;34m)\u001b[0m\u001b[0;34m\u001b[0m\u001b[0;34m\u001b[0m\u001b[0m\n\u001b[1;32m     66\u001b[0m \u001b[0;34m\u001b[0m\u001b[0m\n\u001b[0;32m---> 67\u001b[0;31m             \u001b[0mctrdms\u001b[0m\u001b[0;34m[\u001b[0m\u001b[0msub\u001b[0m\u001b[0;34m]\u001b[0m \u001b[0;34m=\u001b[0m \u001b[0msingle_cal\u001b[0m\u001b[0;34m.\u001b[0m\u001b[0mctrdm_cal\u001b[0m\u001b[0;34m(\u001b[0m\u001b[0mdata\u001b[0m\u001b[0;34m[\u001b[0m\u001b[0;34m:\u001b[0m\u001b[0;34m,\u001b[0m \u001b[0msub\u001b[0m\u001b[0;34m]\u001b[0m\u001b[0;34m,\u001b[0m \u001b[0mtime_win\u001b[0m\u001b[0;34m=\u001b[0m\u001b[0mtime_win\u001b[0m\u001b[0;34m,\u001b[0m \u001b[0mtime_step\u001b[0m\u001b[0;34m=\u001b[0m\u001b[0mtime_step\u001b[0m\u001b[0;34m)\u001b[0m\u001b[0;34m\u001b[0m\u001b[0;34m\u001b[0m\u001b[0m\n\u001b[0m\u001b[1;32m     68\u001b[0m \u001b[0;34m\u001b[0m\u001b[0m\n\u001b[1;32m     69\u001b[0m         \u001b[0;31m# chl_opt=0 & sub_opt=0\u001b[0m\u001b[0;34m\u001b[0m\u001b[0;34m\u001b[0m\u001b[0;34m\u001b[0m\u001b[0m\n",
      "\u001b[0;32m~/anaconda3/lib/python3.7/site-packages/pyctrsa/ctrdm/single_cal.py\u001b[0m in \u001b[0;36mctrdm_cal\u001b[0;34m(data, time_win, time_step)\u001b[0m\n\u001b[1;32m     65\u001b[0m                 \u001b[0;32mfor\u001b[0m \u001b[0mcon2\u001b[0m \u001b[0;32min\u001b[0m \u001b[0mrange\u001b[0m\u001b[0;34m(\u001b[0m\u001b[0mn_cons\u001b[0m\u001b[0;34m)\u001b[0m\u001b[0;34m:\u001b[0m\u001b[0;34m\u001b[0m\u001b[0;34m\u001b[0m\u001b[0m\n\u001b[1;32m     66\u001b[0m \u001b[0;34m\u001b[0m\u001b[0m\n\u001b[0;32m---> 67\u001b[0;31m                     \u001b[0mr\u001b[0m \u001b[0;34m=\u001b[0m \u001b[0mpearsonr\u001b[0m\u001b[0;34m(\u001b[0m\u001b[0mdata_for_cal\u001b[0m\u001b[0;34m[\u001b[0m\u001b[0mcon1\u001b[0m\u001b[0;34m,\u001b[0m \u001b[0mt1\u001b[0m\u001b[0;34m]\u001b[0m\u001b[0;34m,\u001b[0m \u001b[0mdata_for_cal\u001b[0m\u001b[0;34m[\u001b[0m\u001b[0mcon2\u001b[0m\u001b[0;34m,\u001b[0m \u001b[0mt2\u001b[0m\u001b[0;34m]\u001b[0m\u001b[0;34m)\u001b[0m\u001b[0;34m[\u001b[0m\u001b[0;36m0\u001b[0m\u001b[0;34m]\u001b[0m\u001b[0;34m\u001b[0m\u001b[0;34m\u001b[0m\u001b[0m\n\u001b[0m\u001b[1;32m     68\u001b[0m                     \u001b[0mctrdms\u001b[0m\u001b[0;34m[\u001b[0m\u001b[0mt1\u001b[0m\u001b[0;34m,\u001b[0m \u001b[0mt2\u001b[0m\u001b[0;34m,\u001b[0m \u001b[0mcon1\u001b[0m\u001b[0;34m,\u001b[0m \u001b[0mcon2\u001b[0m\u001b[0;34m]\u001b[0m \u001b[0;34m=\u001b[0m \u001b[0;36m1\u001b[0m\u001b[0;34m-\u001b[0m\u001b[0mr\u001b[0m\u001b[0;34m\u001b[0m\u001b[0;34m\u001b[0m\u001b[0m\n\u001b[1;32m     69\u001b[0m \u001b[0;34m\u001b[0m\u001b[0m\n",
      "\u001b[0;32m~/anaconda3/lib/python3.7/site-packages/scipy/stats/stats.py\u001b[0m in \u001b[0;36mpearsonr\u001b[0;34m(x, y)\u001b[0m\n\u001b[1;32m   3505\u001b[0m \u001b[0;34m\u001b[0m\u001b[0m\n\u001b[1;32m   3506\u001b[0m     \u001b[0;31m# If an input is constant, the correlation coefficient is not defined.\u001b[0m\u001b[0;34m\u001b[0m\u001b[0;34m\u001b[0m\u001b[0;34m\u001b[0m\u001b[0m\n\u001b[0;32m-> 3507\u001b[0;31m     \u001b[0;32mif\u001b[0m \u001b[0;34m(\u001b[0m\u001b[0mx\u001b[0m \u001b[0;34m==\u001b[0m \u001b[0mx\u001b[0m\u001b[0;34m[\u001b[0m\u001b[0;36m0\u001b[0m\u001b[0;34m]\u001b[0m\u001b[0;34m)\u001b[0m\u001b[0;34m.\u001b[0m\u001b[0mall\u001b[0m\u001b[0;34m(\u001b[0m\u001b[0;34m)\u001b[0m \u001b[0;32mor\u001b[0m \u001b[0;34m(\u001b[0m\u001b[0my\u001b[0m \u001b[0;34m==\u001b[0m \u001b[0my\u001b[0m\u001b[0;34m[\u001b[0m\u001b[0;36m0\u001b[0m\u001b[0;34m]\u001b[0m\u001b[0;34m)\u001b[0m\u001b[0;34m.\u001b[0m\u001b[0mall\u001b[0m\u001b[0;34m(\u001b[0m\u001b[0;34m)\u001b[0m\u001b[0;34m:\u001b[0m\u001b[0;34m\u001b[0m\u001b[0;34m\u001b[0m\u001b[0m\n\u001b[0m\u001b[1;32m   3508\u001b[0m         \u001b[0mwarnings\u001b[0m\u001b[0;34m.\u001b[0m\u001b[0mwarn\u001b[0m\u001b[0;34m(\u001b[0m\u001b[0mPearsonRConstantInputWarning\u001b[0m\u001b[0;34m(\u001b[0m\u001b[0;34m)\u001b[0m\u001b[0;34m)\u001b[0m\u001b[0;34m\u001b[0m\u001b[0;34m\u001b[0m\u001b[0m\n\u001b[1;32m   3509\u001b[0m         \u001b[0;32mreturn\u001b[0m \u001b[0mnp\u001b[0m\u001b[0;34m.\u001b[0m\u001b[0mnan\u001b[0m\u001b[0;34m,\u001b[0m \u001b[0mnp\u001b[0m\u001b[0;34m.\u001b[0m\u001b[0mnan\u001b[0m\u001b[0;34m\u001b[0m\u001b[0;34m\u001b[0m\u001b[0m\n",
      "\u001b[0;32m~/anaconda3/lib/python3.7/site-packages/numpy/core/_methods.py\u001b[0m in \u001b[0;36m_all\u001b[0;34m(a, axis, dtype, out, keepdims)\u001b[0m\n\u001b[1;32m     46\u001b[0m \u001b[0;34m\u001b[0m\u001b[0m\n\u001b[1;32m     47\u001b[0m \u001b[0;32mdef\u001b[0m \u001b[0m_all\u001b[0m\u001b[0;34m(\u001b[0m\u001b[0ma\u001b[0m\u001b[0;34m,\u001b[0m \u001b[0maxis\u001b[0m\u001b[0;34m=\u001b[0m\u001b[0;32mNone\u001b[0m\u001b[0;34m,\u001b[0m \u001b[0mdtype\u001b[0m\u001b[0;34m=\u001b[0m\u001b[0;32mNone\u001b[0m\u001b[0;34m,\u001b[0m \u001b[0mout\u001b[0m\u001b[0;34m=\u001b[0m\u001b[0;32mNone\u001b[0m\u001b[0;34m,\u001b[0m \u001b[0mkeepdims\u001b[0m\u001b[0;34m=\u001b[0m\u001b[0;32mFalse\u001b[0m\u001b[0;34m)\u001b[0m\u001b[0;34m:\u001b[0m\u001b[0;34m\u001b[0m\u001b[0;34m\u001b[0m\u001b[0m\n\u001b[0;32m---> 48\u001b[0;31m     \u001b[0;32mreturn\u001b[0m \u001b[0mumr_all\u001b[0m\u001b[0;34m(\u001b[0m\u001b[0ma\u001b[0m\u001b[0;34m,\u001b[0m \u001b[0maxis\u001b[0m\u001b[0;34m,\u001b[0m \u001b[0mdtype\u001b[0m\u001b[0;34m,\u001b[0m \u001b[0mout\u001b[0m\u001b[0;34m,\u001b[0m \u001b[0mkeepdims\u001b[0m\u001b[0;34m)\u001b[0m\u001b[0;34m\u001b[0m\u001b[0;34m\u001b[0m\u001b[0m\n\u001b[0m\u001b[1;32m     49\u001b[0m \u001b[0;34m\u001b[0m\u001b[0m\n\u001b[1;32m     50\u001b[0m \u001b[0;32mdef\u001b[0m \u001b[0m_count_reduce_items\u001b[0m\u001b[0;34m(\u001b[0m\u001b[0marr\u001b[0m\u001b[0;34m,\u001b[0m \u001b[0maxis\u001b[0m\u001b[0;34m)\u001b[0m\u001b[0;34m:\u001b[0m\u001b[0;34m\u001b[0m\u001b[0;34m\u001b[0m\u001b[0m\n",
      "\u001b[0;31mKeyboardInterrupt\u001b[0m: "
     ]
    }
   ],
   "source": [
    "# calculate the CTRDMs for all channels & subjects\n",
    "\n",
    "# here we use the ERP position data of all channels & subjects\n",
    "nsubs = len(subs)\n",
    "data_pos_ERP = np.zeros([16, nsubs, 40, 27, 500], dtype=np.float)\n",
    "subindex = 0\n",
    "for sub in subs:\n",
    "    print('Loading data of sub'+sub)\n",
    "    f = h5py.File(data_dir+'data_for_CTRSA/ERP/'+sub+'.h5', 'r')\n",
    "    ori_subdata = np.array(f['pos'])\n",
    "    f.close()\n",
    "    data_pos_ERP[:, subindex] = ori_subdata\n",
    "\n",
    "# avgerage the trials\n",
    "data_pos_ERP = np.average(data_pos_ERP, axis=2)\n",
    "# calculate the CTRDMs\n",
    "CTRDM_pos_ERP = multi_cal.ctrdms_cal(data_pos_ERP, sub_opt=1, chl_opt=0, time_win=5, time_step=5)\n",
    "# shape of CTRDMs: [16, 100, 100, 16, 16]\n",
    "\n",
    "# save the CTRDMs\n",
    "f = h5py.File('test_results/CTRDM_pos_ERP.h5', 'w')\n",
    "f.create_dataset('CTRDMs', data=CTRDM_pos_ERP)\n",
    "f.close()\n",
    "\n",
    "# plot one of the CTRDMs (time 1: 10 ms, time 2: 20 ms, the time of stimulus onset is 0 ms) averaging the subjects\n",
    "CTRDM_pos_ERP_10ms_20ms = np.average(CTRDM_pos_ERP, axis=0)[30, 35]\n",
    "ctrdm.ctrdm_plot(CTRDM_pos_ERP_10ms_20ms, percentile=True, conditions=conditions)"
   ]
  },
  {
   "cell_type": "markdown",
   "metadata": {},
   "source": [
    "## Section 4 Calculating and Plotting Cross-Temporal Similarities"
   ]
  },
  {
   "cell_type": "code",
   "execution_count": 41,
   "metadata": {},
   "outputs": [
    {
     "data": {
      "image/png": "[encoded data removed]",
      "text/plain": [
       "<Figure size 432x288 with 2 Axes>"
      ]
     },
     "metadata": {
      "needs_background": "light"
     },
     "output_type": "display_data"
    }
   ],
   "source": [
    "# establish a Position-Coding RDM\n",
    "# In this model RDM, the representational dissimilarities between two positions are larger\n",
    "# when the difference between these two positions are large and the dissimilarities between\n",
    "# two positions are smaller when the difference between these two positions are small.\n",
    "pos_model_RDM = np.zeros([16, 16], dtype=np.float)\n",
    "for i in range(16):\n",
    "    for j in range(16):\n",
    "        diff = np.abs(i-j)\n",
    "        if diff <= 8:\n",
    "            pos_model_RDM[i, j] = diff/8\n",
    "        else:\n",
    "            pos_model_RDM[i, j] = (16-diff)/8\n",
    "\n",
    "# plot the Position-Coding RDM\n",
    "ctrdm.ctrdm_plot(pos_model_RDM, percentile=True, conditions=conditions)"
   ]
  },
  {
   "cell_type": "code",
   "execution_count": null,
   "metadata": {},
   "outputs": [],
   "source": [
    "# calculate the CTSimilarities between CTRDMs and Position-Coding RDM\n",
    "CTSim_pos_ERP = fitctrdm.ctsimilarities_cal(CTRDM_pos_ERP, pos_model_RDM)\n",
    "\n",
    "# save the CTSimilarities\n",
    "f = h5py.File('test_resutls/CTSimilarities_pos_ERP.h5', 'w')\n",
    "f.create_dataset('CTSimilarities', data=CTSim_pos_ERP)\n",
    "f.close()\n",
    "\n",
    "# plot the time-by-time decoding results\n",
    "tbytsimilarities.tbytsimilarities_plot(CTSim_pos_ERP, start_time=-0.5, end_time=1.5, color='orange', lim=[-0.1, 0.5])\n",
    "\n",
    "# plot the Cross-Temporal decoding results\n",
    "ctsimilarities.ctsimilarities_plot(CTSim_pos_ERP, start_time=-0.5, end_time=1.5, cmap='bwr', lim=[-0.08, 0.08])"
   ]
  }
 ],
 "metadata": {
  "kernelspec": {
   "display_name": "Python 3",
   "language": "python",
   "name": "python3"
  },
  "language_info": {
   "codemirror_mode": {
    "name": "ipython",
    "version": 3
   },
   "file_extension": ".py",
   "mimetype": "text/x-python",
   "name": "python",
   "nbconvert_exporter": "python",
   "pygments_lexer": "ipython3",
   "version": "3.7.2"
  }
 },
 "nbformat": 4,
 "nbformat_minor": 2
}
