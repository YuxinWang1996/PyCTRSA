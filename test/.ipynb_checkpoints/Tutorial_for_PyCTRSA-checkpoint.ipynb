{
 "cells": [
  {
   "cell_type": "markdown",
   "metadata": {},
   "source": [
    "# Hi! This is the tutorial of PyCTRSA!\n",
    "\n",
    "### PyCTRSA is a Python Toolbox for Cross-Temporal Representational Similarity Analysis(RSA)-based Decoding for E/MEG data.\n",
    "\n",
    "### Author\n",
    "Zitong Lu\n",
    "\n",
    "you can see more details about me here: [https://github.com/ZitongLu1996](https://github.com/ZitongLu1996)\n",
    "\n",
    "### \n",
    "\n",
    "### Highlight\n",
    "CTRSA-based decoding is a new algorithm for cross-temporal E/MEG decoding by RSA. We use the neural data from two different time-points to establish a Cross-Temporal Representatonal Dissimilarity Matrix (RDM) corrsponding to time i and time j. By this train of thought, we can obtain Number_of_Times by Number_of_Times Cross-Temporal RDMs. Then we can establish a Coding Model RDM by the experimental hypothesis. Finally, we can calculate the similarity between this Coding Model RDM and the Number_of_Times by Number_of_Times Cross-Temporal RDMs and obtain the cross-temporal decoding results.\n",
    "\n",
    "### Notes\n",
    "In PyCTRSA, you can not only calculate the cross-temporal similarities based on this novel methods to realize decoding, but also calculate the cross-temporal similarities based on neural data under two different conditions to see the similar data patterns between two conditions and calculate the the cross-temporal similarities based on normal RDMs to see the similar representational patterns between different time-points.\n",
    "\n",
    "### Features in PyCTRSA\n",
    "#### 1. Calculate the Cross-Temporal RDM (Novel here!)\n",
    "\n",
    "    > calculate CTRDMs for a single channel/subject\n",
    "\n",
    "    > calculate CTRDMs for multi-channels&subejcts\n",
    "\n",
    "#### 2. Calculate the similarity between two CTRDMs (Novel here!)\n",
    "\n",
    "    > by Pearson Correlation/Spearman Correlation/Kendall tau Correlation/Cosine Similarity/Euclidean Distance\n",
    "\n",
    "#### 3. Calculate the Cross-Temporal Similarities\n",
    "\n",
    "    > calculate CTSimilarities between neural data under two conditions\n",
    "\n",
    "    > calculate CTSimilarities based on normal RDMs\n",
    "\n",
    "    > calculate CTSimilarities between CTRDMs and a Coding Model RDM (Novel here!)\n",
    "\n",
    "#### 4. Plot the Results\n",
    "\n",
    "    > plot the CTRDM\n",
    "    \n",
    "    > plot the CTSimilarities\n",
    "    \n",
    "    > plot the time-by-time similarities\n",
    "\n",
    "### Required Dependencies\n",
    "\n",
    "$~~~~~~~~$[Numpy](https://www.numpy.org): a fundamental package for scientific computing.\n",
    "    \n",
    "$~~~~~~~~$[SciPy](https://www.scipy.org/scipylib/index.html): a package that provides many user-friendly and efficient numerical routines.\n",
    "    \n",
    "$~~~~~~~~$[Matplotlib](https://matplotlib.org): a Python 2D plotting library.]\n",
    "\n",
    "$~~~~~~~~$[NeuroRA](https://zitonglu1996.github.io/NeuroRA/): a Python toolbox for multimode neural data Representation Analysis.]"
   ]
  },
  {
   "cell_type": "markdown",
   "metadata": {},
   "source": [
    "## PyCTRSA Demo \n",
    "### Here, we provide a demo. By this demo, you will learn and know how to use PyCTRSA.\n",
    "The data of this PyCTRSA is based on Bae&Luck's work in 2018. All demo data are based on their Experiment 2's data.  You can find more details about the experiment and data information in their paper: [Bae, G.Y., Luck, S.J. (2018). Dissociable decoding of spatial attention and working memory from eeg oscillations and sustained potentials. The Journal of Neuroscience, 38(2), 409-422.](https://doi.org/10.1523/JNEUROSCI.2860-17.2017)\n",
    "\n",
    "In this demo, we use the ERP data after 2-6Hz filtering and Alpha data after 8-12 Hz filtering and Hilbert transform."
   ]
  },
  {
   "cell_type": "code",
   "execution_count": 2,
   "metadata": {},
   "outputs": [
    {
     "ename": "ModuleNotFoundError",
     "evalue": "No module named 'pyctrsa'",
     "output_type": "error",
     "traceback": [
      "\u001b[0;31m---------------------------------------------------------------------------\u001b[0m",
      "\u001b[0;31mModuleNotFoundError\u001b[0m                       Traceback (most recent call last)",
      "\u001b[0;32m<ipython-input-2-b7fcff98f128>\u001b[0m in \u001b[0;36m<module>\u001b[0;34m()\u001b[0m\n\u001b[1;32m      2\u001b[0m \u001b[0;32mimport\u001b[0m \u001b[0mnumpy\u001b[0m \u001b[0;32mas\u001b[0m \u001b[0mnp\u001b[0m\u001b[0;34m\u001b[0m\u001b[0;34m\u001b[0m\u001b[0m\n\u001b[1;32m      3\u001b[0m \u001b[0;32mfrom\u001b[0m \u001b[0msix\u001b[0m\u001b[0;34m.\u001b[0m\u001b[0mmoves\u001b[0m \u001b[0;32mimport\u001b[0m \u001b[0murllib\u001b[0m\u001b[0;34m\u001b[0m\u001b[0;34m\u001b[0m\u001b[0m\n\u001b[0;32m----> 4\u001b[0;31m \u001b[0;32mfrom\u001b[0m \u001b[0mpyctrsa\u001b[0m\u001b[0;34m.\u001b[0m\u001b[0mutil\u001b[0m\u001b[0;34m.\u001b[0m\u001b[0mprogressbar\u001b[0m \u001b[0;32mimport\u001b[0m \u001b[0mshow_progressbar\u001b[0m\u001b[0;34m\u001b[0m\u001b[0;34m\u001b[0m\u001b[0m\n\u001b[0m\u001b[1;32m      5\u001b[0m \u001b[0;32mfrom\u001b[0m \u001b[0mpyctrsa\u001b[0m\u001b[0;34m.\u001b[0m\u001b[0mutil\u001b[0m\u001b[0;34m.\u001b[0m\u001b[0mdownload_data\u001b[0m \u001b[0;32mimport\u001b[0m \u001b[0mschedule\u001b[0m\u001b[0;34m\u001b[0m\u001b[0;34m\u001b[0m\u001b[0m\n\u001b[1;32m      6\u001b[0m \u001b[0;32mfrom\u001b[0m \u001b[0mpyctrsa\u001b[0m\u001b[0;34m.\u001b[0m\u001b[0mutil\u001b[0m\u001b[0;34m.\u001b[0m\u001b[0munzip_data\u001b[0m \u001b[0;32mimport\u001b[0m \u001b[0munzipfile\u001b[0m\u001b[0;34m\u001b[0m\u001b[0;34m\u001b[0m\u001b[0m\n",
      "\u001b[0;31mModuleNotFoundError\u001b[0m: No module named 'pyctrsa'"
     ]
    }
   ],
   "source": [
    "import os\n",
    "import numpy as np\n",
    "from six.moves import urllib\n",
    "from pyctrsa.util.progressbar import show_progressbar\n",
    "from pyctrsa.util.download_data import schedule\n",
    "from pyctrsa.util.unzip_data import unzipfile\n",
    "from pyctrsa.util.preprocess_data import pre_data\n",
    "\n",
    "url = 'https://attachment.zhaokuangshi.cn/BaeLuck_2018jn_data.zip'\n",
    "filename = 'BaeLuck_2018jn_data.zip'\n",
    "data_dir = '../data/'\n",
    "filepath = data_dir + filename"
   ]
  },
  {
   "cell_type": "markdown",
   "metadata": {},
   "source": [
    "## Section 1 Downloading Demo Data"
   ]
  },
  {
   "cell_type": "code",
   "execution_count": 1,
   "metadata": {},
   "outputs": [
    {
     "ename": "NameError",
     "evalue": "name 'os' is not defined",
     "output_type": "error",
     "traceback": [
      "\u001b[0;31m---------------------------------------------------------------------------\u001b[0m",
      "\u001b[0;31mNameError\u001b[0m                                 Traceback (most recent call last)",
      "\u001b[0;32m<ipython-input-1-27e7024bd6fc>\u001b[0m in \u001b[0;36m<module>\u001b[0;34m()\u001b[0m\n\u001b[1;32m      1\u001b[0m \u001b[0;31m# Download the data\u001b[0m\u001b[0;34m\u001b[0m\u001b[0;34m\u001b[0m\u001b[0;34m\u001b[0m\u001b[0m\n\u001b[0;32m----> 2\u001b[0;31m \u001b[0mexist\u001b[0m \u001b[0;34m=\u001b[0m \u001b[0mos\u001b[0m\u001b[0;34m.\u001b[0m\u001b[0mpath\u001b[0m\u001b[0;34m.\u001b[0m\u001b[0mexists\u001b[0m\u001b[0;34m(\u001b[0m\u001b[0mfilepath\u001b[0m\u001b[0;34m)\u001b[0m\u001b[0;34m\u001b[0m\u001b[0;34m\u001b[0m\u001b[0m\n\u001b[0m\u001b[1;32m      3\u001b[0m \u001b[0;32mif\u001b[0m \u001b[0mexist\u001b[0m \u001b[0;34m==\u001b[0m \u001b[0;32mFalse\u001b[0m\u001b[0;34m:\u001b[0m\u001b[0;34m\u001b[0m\u001b[0;34m\u001b[0m\u001b[0m\n\u001b[1;32m      4\u001b[0m     \u001b[0murllib\u001b[0m\u001b[0;34m.\u001b[0m\u001b[0mrequest\u001b[0m\u001b[0;34m.\u001b[0m\u001b[0murlretrieve\u001b[0m\u001b[0;34m(\u001b[0m\u001b[0murl\u001b[0m\u001b[0;34m,\u001b[0m \u001b[0mfilepath\u001b[0m\u001b[0;34m,\u001b[0m \u001b[0mschedule\u001b[0m\u001b[0;34m)\u001b[0m\u001b[0;34m\u001b[0m\u001b[0;34m\u001b[0m\u001b[0m\n\u001b[1;32m      5\u001b[0m     \u001b[0mprint\u001b[0m\u001b[0;34m(\u001b[0m\u001b[0;34m'Download completes!'\u001b[0m\u001b[0;34m)\u001b[0m\u001b[0;34m\u001b[0m\u001b[0;34m\u001b[0m\u001b[0m\n",
      "\u001b[0;31mNameError\u001b[0m: name 'os' is not defined"
     ]
    }
   ],
   "source": [
    "# Download the data\n",
    "exist = os.path.exists(filepath)\n",
    "if exist == False:\n",
    "    urllib.request.urlretrieve(url, filepath, schedule)\n",
    "    print('Download completes!')\n",
    "elif exist == True:\n",
    "    print('Data already exists!')\n",
    "\n",
    "# unzip the data\n",
    "unzipfile(filepath, data_dir)"
   ]
  },
  {
   "cell_type": "code",
   "execution_count": null,
   "metadata": {},
   "outputs": [],
   "source": []
  }
 ],
 "metadata": {
  "kernelspec": {
   "display_name": "Python 3",
   "language": "python",
   "name": "python3"
  },
  "language_info": {
   "codemirror_mode": {
    "name": "ipython",
    "version": 3
   },
   "file_extension": ".py",
   "mimetype": "text/x-python",
   "name": "python",
   "nbconvert_exporter": "python",
   "pygments_lexer": "ipython3",
   "version": "3.7.2"
  }
 },
 "nbformat": 4,
 "nbformat_minor": 2
}
